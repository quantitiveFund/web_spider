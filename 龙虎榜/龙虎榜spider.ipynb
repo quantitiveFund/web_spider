{
 "cells": [
  {
   "cell_type": "code",
   "execution_count": 1,
   "metadata": {},
   "outputs": [],
   "source": [
    "from lxml import etree\n",
    "import pandas as pd\n",
    "import requests\n",
    "from bs4 import BeautifulSoup\n",
    "import numpy as np\n",
    "import tushare as ts\n",
    "import tqdm\n",
    "pro = ts.pro_api('5e2da4e6322b3b893f1c10e43d001749300351741d736d247251d837')"
   ]
  },
  {
   "cell_type": "code",
   "execution_count": 6,
   "metadata": {},
   "outputs": [
    {
     "name": "stderr",
     "output_type": "stream",
     "text": [
      "<ipython-input-6-2251dcbc650b>:11: TqdmDeprecationWarning: This function will be removed in tqdm==5.0.0\n",
      "Please use `tqdm.notebook.tqdm` instead of `tqdm.tqdm_notebook`\n",
      "  for date in tqdm.tqdm_notebook(cal_format):\n"
     ]
    },
    {
     "data": {
      "application/vnd.jupyter.widget-view+json": {
       "model_id": "7545d181ea294e4ab5a14ba2d136284c",
       "version_major": 2,
       "version_minor": 0
      },
      "text/plain": [
       "  0%|          | 0/952 [00:00<?, ?it/s]"
      ]
     },
     "metadata": {},
     "output_type": "display_data"
    },
    {
     "name": "stdout",
     "output_type": "stream",
     "text": [
      "2020-07-24凉了\n",
      "2020-12-25凉了\n",
      "2020-12-28凉了\n"
     ]
    }
   ],
   "source": [
    "#批量更新 由于csv追加写入，不能乱运行。\n",
    "headers = {'User-Agent':'Mozilla/5.0 (Windows NT 10.0; Win64; x64) AppleWebKit/537.36 (KHTML, like Gecko) Chrome/95.0.4638.69 Safari/537.36'}\n",
    "\n",
    "with open('龙虎榜营业部.csv','a',encoding='gbk') as f:\n",
    "    f.write('date,stock,营业部,买入(万),卖出(万),净买(万)\\n')\n",
    "\n",
    "df2 = pro.trade_cal(exchange='', start_date='20180101', end_date='20211202')\n",
    "cal = df2[df2['is_open']==1]['cal_date'].tolist()\n",
    "cal_format = list(map(lambda x:'{}-{}-{}'.format(x[:4],x[4:6],x[-2:]),cal))\n",
    "\n",
    "for date in tqdm.tqdm_notebook(cal_format):\n",
    "    with open('龙虎榜营业部.csv','a',encoding='gbk') as f:\n",
    "        url = 'http://data.10jqka.com.cn/ifmarket/lhbggxq/report/%s/'%date\n",
    "        html = requests.get(url=url,headers=headers)\n",
    "        if html.status_code==200:\n",
    "            soup = BeautifulSoup(html.text, 'lxml')\n",
    "            elements = soup.find_all(attrs={'class':'stockcont'})\n",
    "            for element in elements:\n",
    "                tmp_text = element.find('p').text\n",
    "                name,tmp_text2 = tmp_text.split(')')\n",
    "                a = list(map(lambda x:x.find('a').get('title') if x.find('a') else x.text.replace('\\n',''),element.find_all('td')))\n",
    "                b = np.array(a).reshape(-1,4)\n",
    "                length = b.shape[0]\n",
    "                df = pd.DataFrame(b,index=[[date]*length,[name]*length],columns=['营业部','买入','卖出','净买'])\n",
    "                df.index.names = ['date','stock']\n",
    "                string = '\\r\\n'.join(df.to_csv().split('\\r\\n')[1:]).replace('\\r','').replace('一线游资','')\n",
    "                f.write(string)\n",
    "        else:\n",
    "            print('%s凉了'%date)"
   ]
  },
  {
   "cell_type": "code",
   "execution_count": 11,
   "metadata": {},
   "outputs": [
    {
     "name": "stdout",
     "output_type": "stream",
     "text": [
      "200\n"
     ]
    }
   ],
   "source": [
    "#daily update 由于csv追加写入，不能乱运行。\n",
    "date = input('yyyy-mm-dd:')\n",
    "with open('龙虎榜营业部.csv','a',encoding='gbk') as f:\n",
    "    url = 'http://data.10jqka.com.cn/ifmarket/lhbggxq/report/%s/'%date\n",
    "    html = requests.get(url=url,headers=headers)\n",
    "    print(html.status_code)\n",
    "    if html.status_code==200:\n",
    "        soup = BeautifulSoup(html.text, 'lxml')\n",
    "        elements = soup.find_all(attrs={'class':'stockcont'})\n",
    "        for element in elements:\n",
    "            tmp_text = element.find('p').text\n",
    "            name,tmp_text2 = tmp_text.split(')')\n",
    "            a = list(map(lambda x:x.find('a').get('title') if x.find('a') else x.text.replace('\\n',''),element.find_all('td')))\n",
    "            b = np.array(a).reshape(-1,4)\n",
    "            length = b.shape[0]\n",
    "            df = pd.DataFrame(b,index=[[date]*length,[name]*length],columns=['营业部','买入','卖出','净买'])\n",
    "            df.index.names = ['date','stock']\n",
    "            string = '\\r\\n'.join(df.to_csv().split('\\r\\n')[1:]).replace('\\r','').replace('一线游资','').replace('知名游资','')\n",
    "            f.write(string)\n",
    "    else:\n",
    "        print('%s凉了'%date)"
   ]
  },
  {
   "cell_type": "code",
   "execution_count": 23,
   "metadata": {},
   "outputs": [
    {
     "data": {
      "text/html": [
       "<div>\n",
       "<style scoped>\n",
       "    .dataframe tbody tr th:only-of-type {\n",
       "        vertical-align: middle;\n",
       "    }\n",
       "\n",
       "    .dataframe tbody tr th {\n",
       "        vertical-align: top;\n",
       "    }\n",
       "\n",
       "    .dataframe thead th {\n",
       "        text-align: right;\n",
       "    }\n",
       "</style>\n",
       "<table border=\"1\" class=\"dataframe\">\n",
       "  <thead>\n",
       "    <tr style=\"text-align: right;\">\n",
       "      <th></th>\n",
       "      <th></th>\n",
       "      <th>营业部</th>\n",
       "      <th>买入(万)</th>\n",
       "      <th>卖出(万)</th>\n",
       "      <th>净买(万)</th>\n",
       "    </tr>\n",
       "    <tr>\n",
       "      <th>date</th>\n",
       "      <th>stock</th>\n",
       "      <th></th>\n",
       "      <th></th>\n",
       "      <th></th>\n",
       "      <th></th>\n",
       "    </tr>\n",
       "  </thead>\n",
       "  <tbody>\n",
       "    <tr>\n",
       "      <th rowspan=\"5\" valign=\"top\">2018-01-02</th>\n",
       "      <th>金岭矿业(000655</th>\n",
       "      <td>国泰君安证券股份有限公司成都北一环路证券...</td>\n",
       "      <td>612.19</td>\n",
       "      <td>0.00</td>\n",
       "      <td>612.19</td>\n",
       "    </tr>\n",
       "    <tr>\n",
       "      <th>金岭矿业(000655</th>\n",
       "      <td>国泰君安证券股份有限公司北京方庄路证券营业部</td>\n",
       "      <td>328.52</td>\n",
       "      <td>0.00</td>\n",
       "      <td>328.52</td>\n",
       "    </tr>\n",
       "    <tr>\n",
       "      <th>金岭矿业(000655</th>\n",
       "      <td>国信证券股份有限公司深圳泰然九路证券营业部</td>\n",
       "      <td>305.82</td>\n",
       "      <td>162.13</td>\n",
       "      <td>143.69</td>\n",
       "    </tr>\n",
       "    <tr>\n",
       "      <th>金岭矿业(000655</th>\n",
       "      <td>国金证券股份有限公司上海奉贤区金碧路证券...</td>\n",
       "      <td>197.17</td>\n",
       "      <td>14.60</td>\n",
       "      <td>182.56</td>\n",
       "    </tr>\n",
       "    <tr>\n",
       "      <th>金岭矿业(000655</th>\n",
       "      <td>国泰君安证券股份有限公司泸州星光路证券营业部</td>\n",
       "      <td>160.67</td>\n",
       "      <td>0.00</td>\n",
       "      <td>160.67</td>\n",
       "    </tr>\n",
       "  </tbody>\n",
       "</table>\n",
       "</div>"
      ],
      "text/plain": [
       "                                            营业部   买入(万)   卖出(万)   净买(万)\n",
       "date       stock                                                       \n",
       "2018-01-02 金岭矿业(000655  国泰君安证券股份有限公司成都北一环路证券...  612.19    0.00  612.19\n",
       "           金岭矿业(000655   国泰君安证券股份有限公司北京方庄路证券营业部  328.52    0.00  328.52\n",
       "           金岭矿业(000655    国信证券股份有限公司深圳泰然九路证券营业部  305.82  162.13  143.69\n",
       "           金岭矿业(000655  国金证券股份有限公司上海奉贤区金碧路证券...  197.17   14.60  182.56\n",
       "           金岭矿业(000655   国泰君安证券股份有限公司泸州星光路证券营业部  160.67    0.00  160.67"
      ]
     },
     "execution_count": 23,
     "metadata": {},
     "output_type": "execute_result"
    }
   ],
   "source": [
    "df = pd.read_csv('龙虎榜营业部.csv',index_col=[0,1],encoding='gbk')\n",
    "no_yyb_list = ['深股通专用 ','机构专用','沪股通专用 ']\n",
    "df.head()"
   ]
  },
  {
   "cell_type": "code",
   "execution_count": 26,
   "metadata": {},
   "outputs": [
    {
     "data": {
      "text/plain": [
       "买入(万)    55148070.16\n",
       "卖出(万)    39927172.64\n",
       "净买(万)    15220897.08\n",
       "dtype: float64"
      ]
     },
     "execution_count": 26,
     "metadata": {},
     "output_type": "execute_result"
    }
   ],
   "source": [
    "df_2020 = df.iloc[list(map(lambda x:x[0][:4]=='2020', df.index)),:]\n",
    "df_2020_top = df_2020.groupby('营业部').sum().sort_values('买入(万)',ascending=False ).head(53)\n",
    "df_2020_top_youzi = df_2020_top.iloc[~df_2020_top.index.isin(no_yyb_list)]\n",
    "df_2020_top_youzi.sum()"
   ]
  },
  {
   "cell_type": "code",
   "execution_count": 27,
   "metadata": {},
   "outputs": [
    {
     "data": {
      "text/plain": [
       "买入(万)    1.148171e+08\n",
       "卖出(万)    9.053341e+07\n",
       "净买(万)    2.428372e+07\n",
       "dtype: float64"
      ]
     },
     "execution_count": 27,
     "metadata": {},
     "output_type": "execute_result"
    }
   ],
   "source": [
    "df_2020 = df.iloc[list(map(lambda x:x[0][:4]=='2020', df.index)),:]\n",
    "df_2020.groupby('营业部').sum().sort_values('买入(万)',ascending=False ).head(50).sum()"
   ]
  },
  {
   "cell_type": "code",
   "execution_count": 28,
   "metadata": {},
   "outputs": [
    {
     "data": {
      "text/plain": [
       "买入(万)    1.713472e+08\n",
       "卖出(万)    1.403663e+08\n",
       "净买(万)    3.098097e+07\n",
       "dtype: float64"
      ]
     },
     "execution_count": 28,
     "metadata": {},
     "output_type": "execute_result"
    }
   ],
   "source": [
    "df_2021 = df.iloc[list(map(lambda x:x[0][:4]=='2021', df.index)),:]\n",
    "df_2021.groupby('营业部').sum().sort_values('买入(万)',ascending=False ).head(50).sum()\n"
   ]
  },
  {
   "cell_type": "code",
   "execution_count": 29,
   "metadata": {},
   "outputs": [
    {
     "data": {
      "text/plain": [
       "买入(万)    66502513.40\n",
       "卖出(万)    49906592.32\n",
       "净买(万)    16595920.03\n",
       "dtype: float64"
      ]
     },
     "execution_count": 29,
     "metadata": {},
     "output_type": "execute_result"
    }
   ],
   "source": [
    "df_2021 = df.iloc[list(map(lambda x:x[0][:4]=='2021', df.index)),:]\n",
    "df_2021_top = df_2021.groupby('营业部').sum().sort_values('买入(万)',ascending=False ).head(53)\n",
    "df_2021_top_youzi = df_2021_top.iloc[~df_2021_top.index.isin(no_yyb_list)]\n",
    "df_2021_top_youzi.sum()"
   ]
  }
 ],
 "metadata": {
  "interpreter": {
   "hash": "af09bc94d41e018aa4bb791c06386d7d2a0d085b02fa573368449120a8cb3c6e"
  },
  "kernelspec": {
   "display_name": "Python 3.8.3 64-bit ('base': conda)",
   "name": "python3"
  },
  "language_info": {
   "codemirror_mode": {
    "name": "ipython",
    "version": 3
   },
   "file_extension": ".py",
   "mimetype": "text/x-python",
   "name": "python",
   "nbconvert_exporter": "python",
   "pygments_lexer": "ipython3",
   "version": "3.8.8"
  },
  "orig_nbformat": 4
 },
 "nbformat": 4,
 "nbformat_minor": 2
}
